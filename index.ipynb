a=np.arange(1,6).reshape(3,5)
print(a)

